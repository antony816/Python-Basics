{
  "nbformat": 4,
  "nbformat_minor": 0,
  "metadata": {
    "colab": {
      "provenance": [],
      "authorship_tag": "ABX9TyPOg/z5M4k63V5L8f2AcnqM",
      "include_colab_link": true
    },
    "kernelspec": {
      "name": "python3",
      "display_name": "Python 3"
    },
    "language_info": {
      "name": "python"
    }
  },
  "cells": [
    {
      "cell_type": "markdown",
      "metadata": {
        "id": "view-in-github",
        "colab_type": "text"
      },
      "source": [
        "<a href=\"https://colab.research.google.com/github/antony816/Python-Basics/blob/main/Untitled4.ipynb\" target=\"_parent\"><img src=\"https://colab.research.google.com/assets/colab-badge.svg\" alt=\"Open In Colab\"/></a>"
      ]
    },
    {
      "cell_type": "code",
      "execution_count": 13,
      "metadata": {
        "id": "acPmA6LWB5yQ"
      },
      "outputs": [],
      "source": [
        "x=[\"antony n j\",11,18,\"16-8-2004\",\"aloor\"]"
      ]
    },
    {
      "cell_type": "code",
      "source": [
        "x"
      ],
      "metadata": {
        "colab": {
          "base_uri": "https://localhost:8080/"
        },
        "id": "3N-i9Vl8Goqs",
        "outputId": "3d62150c-e50e-4854-fbc7-fc7f1e7765b9"
      },
      "execution_count": 14,
      "outputs": [
        {
          "output_type": "execute_result",
          "data": {
            "text/plain": [
              "['antony n j', 11, 18, '16-8-2004', 'aloor']"
            ]
          },
          "metadata": {},
          "execution_count": 14
        }
      ]
    },
    {
      "cell_type": "code",
      "source": [
        "x[0]"
      ],
      "metadata": {
        "colab": {
          "base_uri": "https://localhost:8080/",
          "height": 35
        },
        "id": "ueAT1BAxG7Ub",
        "outputId": "265b8a92-13f2-4073-f668-77f346aa4ae6"
      },
      "execution_count": 15,
      "outputs": [
        {
          "output_type": "execute_result",
          "data": {
            "text/plain": [
              "'antony n j'"
            ],
            "application/vnd.google.colaboratory.intrinsic+json": {
              "type": "string"
            }
          },
          "metadata": {},
          "execution_count": 15
        }
      ]
    },
    {
      "cell_type": "code",
      "source": [
        "x[3]"
      ],
      "metadata": {
        "colab": {
          "base_uri": "https://localhost:8080/",
          "height": 35
        },
        "id": "kQbkr2gpIL7D",
        "outputId": "2dec60b8-24d3-439a-c818-38885877e85a"
      },
      "execution_count": 16,
      "outputs": [
        {
          "output_type": "execute_result",
          "data": {
            "text/plain": [
              "'16-8-2004'"
            ],
            "application/vnd.google.colaboratory.intrinsic+json": {
              "type": "string"
            }
          },
          "metadata": {},
          "execution_count": 16
        }
      ]
    },
    {
      "cell_type": "code",
      "source": [
        "x.append(\"thrissur\")"
      ],
      "metadata": {
        "id": "RvFD-tdXIQw7"
      },
      "execution_count": 17,
      "outputs": []
    },
    {
      "cell_type": "code",
      "source": [
        "x"
      ],
      "metadata": {
        "colab": {
          "base_uri": "https://localhost:8080/"
        },
        "id": "bm0yqExCI-C7",
        "outputId": "ddf94274-2fe4-4bc5-8935-7374e984dc8d"
      },
      "execution_count": 18,
      "outputs": [
        {
          "output_type": "execute_result",
          "data": {
            "text/plain": [
              "['antony n j', 11, 18, '16-8-2004', 'aloor', 'thrissur']"
            ]
          },
          "metadata": {},
          "execution_count": 18
        }
      ]
    },
    {
      "cell_type": "code",
      "source": [
        "x.insert(1,\"kerala\")"
      ],
      "metadata": {
        "id": "JyBC9Aq3JfWJ"
      },
      "execution_count": 20,
      "outputs": []
    },
    {
      "cell_type": "code",
      "source": [
        "x=int(input(\"enter a mark\"))\n",
        "if x< 50:\n",
        "  print (\"fail\")\n",
        "if x> 50 :\n",
        "  print(\"pass\")"
      ],
      "metadata": {
        "colab": {
          "base_uri": "https://localhost:8080/"
        },
        "id": "YI1ofVxYMK6u",
        "outputId": "50d8615e-eb07-4127-8a7c-268544fa5e98"
      },
      "execution_count": 32,
      "outputs": [
        {
          "output_type": "stream",
          "name": "stdout",
          "text": [
            "enter a mark64\n",
            "pass\n"
          ]
        }
      ]
    },
    {
      "cell_type": "code",
      "source": [
        "x"
      ],
      "metadata": {
        "colab": {
          "base_uri": "https://localhost:8080/"
        },
        "id": "K0gp-cvnKP2T",
        "outputId": "a68dbb2d-df35-4cdb-e6d7-98ff5c4dfa68"
      },
      "execution_count": 21,
      "outputs": [
        {
          "output_type": "execute_result",
          "data": {
            "text/plain": [
              "['antony n j', 'kerala', 11, 18, '16-8-2004', 'aloor', 'thrissur']"
            ]
          },
          "metadata": {},
          "execution_count": 21
        }
      ]
    },
    {
      "cell_type": "code",
      "source": [
        "x=[\"joe\",\"roy\",\"boy\"]\n",
        "print(x)\n",
        "y=input(\"Name is \")\n",
        "x.append(y)\n",
        "print(x)"
      ],
      "metadata": {
        "colab": {
          "base_uri": "https://localhost:8080/"
        },
        "id": "f_geFJCgN2Gj",
        "outputId": "117c5ae7-a55f-4074-ff54-302b2afb7049"
      },
      "execution_count": 40,
      "outputs": [
        {
          "output_type": "stream",
          "name": "stdout",
          "text": [
            "['joe', 'roy', 'boy']\n",
            "Name is don\n",
            "['joe', 'roy', 'boy', 'don']\n"
          ]
        }
      ]
    },
    {
      "cell_type": "code",
      "source": [
        "x=(\"balu\")"
      ],
      "metadata": {
        "id": "7uENsqBzSaqs"
      },
      "execution_count": 41,
      "outputs": []
    },
    {
      "cell_type": "code",
      "source": [
        "type(x)"
      ],
      "metadata": {
        "colab": {
          "base_uri": "https://localhost:8080/"
        },
        "id": "OGUpBoaNShjJ",
        "outputId": "a6b9fb89-2a9c-45bf-d264-5dc4f5cced37"
      },
      "execution_count": 34,
      "outputs": [
        {
          "output_type": "execute_result",
          "data": {
            "text/plain": [
              "str"
            ]
          },
          "metadata": {},
          "execution_count": 34
        }
      ]
    },
    {
      "cell_type": "code",
      "source": [
        "x=[\"job\",\"tom\",\"beast\"]\n",
        "print(x)\n",
        "y=input(\"names \")\n",
        "x.insert(0,y)\n",
        "print(x)"
      ],
      "metadata": {
        "colab": {
          "base_uri": "https://localhost:8080/"
        },
        "id": "wkDt3ZNeSleq",
        "outputId": "28437300-59d2-4118-f7c3-320c10149e55"
      },
      "execution_count": 45,
      "outputs": [
        {
          "output_type": "stream",
          "name": "stdout",
          "text": [
            "['job', 'tom', 'beast']\n",
            "names bob\n",
            "['bob', 'job', 'tom', 'beast']\n"
          ]
        }
      ]
    },
    {
      "cell_type": "code",
      "source": [],
      "metadata": {
        "id": "uorYaBXVceBx"
      },
      "execution_count": null,
      "outputs": []
    },
    {
      "cell_type": "code",
      "source": [
        "x=[\"job\",\"tom\",\"beast\"]\n",
        "print(x)\n",
        "y=input(\"names \")\n",
        "z=int(input(\"position\"))\n",
        "x.insert(z,y)\n",
        "print(x)"
      ],
      "metadata": {
        "colab": {
          "base_uri": "https://localhost:8080/"
        },
        "outputId": "22ac3768-3d78-47d2-bd95-033f681933ef",
        "id": "yE-Sz_f5fvlL"
      },
      "execution_count": 53,
      "outputs": [
        {
          "output_type": "stream",
          "name": "stdout",
          "text": [
            "['job', 'tom', 'beast']\n",
            "names abhy\n",
            "position0\n",
            "['abhy', 'job', 'tom', 'beast']\n"
          ]
        }
      ]
    },
    {
      "cell_type": "code",
      "source": [],
      "metadata": {
        "id": "vi9MGljef0j6"
      },
      "execution_count": null,
      "outputs": []
    }
  ]
}