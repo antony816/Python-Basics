{
  "nbformat": 4,
  "nbformat_minor": 0,
  "metadata": {
    "colab": {
      "provenance": [],
      "authorship_tag": "ABX9TyP4HdFre8B3V0noibTrYMEK",
      "include_colab_link": true
    },
    "kernelspec": {
      "name": "python3",
      "display_name": "Python 3"
    },
    "language_info": {
      "name": "python"
    }
  },
  "cells": [
    {
      "cell_type": "markdown",
      "metadata": {
        "id": "view-in-github",
        "colab_type": "text"
      },
      "source": [
        "<a href=\"https://colab.research.google.com/github/antony816/Python-Basics/blob/main/Copy_of_Python_2_0_basics.ipynb\" target=\"_parent\"><img src=\"https://colab.research.google.com/assets/colab-badge.svg\" alt=\"Open In Colab\"/></a>"
      ]
    },
    {
      "cell_type": "code",
      "execution_count": null,
      "metadata": {
        "id": "4bjmLh-m4rUD"
      },
      "outputs": [],
      "source": [
        "x=10\n",
        "y=20"
      ]
    },
    {
      "cell_type": "code",
      "source": [
        "print (x+y)"
      ],
      "metadata": {
        "colab": {
          "base_uri": "https://localhost:8080/"
        },
        "id": "Knd6Oj5h41Co",
        "outputId": "270ae1f1-b22f-4384-94bb-8459c7e6fceb"
      },
      "execution_count": null,
      "outputs": [
        {
          "output_type": "stream",
          "name": "stdout",
          "text": [
            "30\n"
          ]
        }
      ]
    },
    {
      "cell_type": "code",
      "source": [
        "print (x-y)"
      ],
      "metadata": {
        "colab": {
          "base_uri": "https://localhost:8080/"
        },
        "id": "3ZnOk3Y246fO",
        "outputId": "0d188eaf-1aa8-4ccf-fda2-f965ea51cf5c"
      },
      "execution_count": null,
      "outputs": [
        {
          "output_type": "stream",
          "name": "stdout",
          "text": [
            "-10\n"
          ]
        }
      ]
    },
    {
      "cell_type": "code",
      "source": [
        "print (x*y)"
      ],
      "metadata": {
        "colab": {
          "base_uri": "https://localhost:8080/"
        },
        "id": "eno0T4_P5Mh-",
        "outputId": "cfde7ebe-9013-4b9b-e390-89dd82db922d"
      },
      "execution_count": null,
      "outputs": [
        {
          "output_type": "stream",
          "name": "stdout",
          "text": [
            "200\n"
          ]
        }
      ]
    },
    {
      "cell_type": "code",
      "source": [
        "print(type(x))"
      ],
      "metadata": {
        "colab": {
          "base_uri": "https://localhost:8080/"
        },
        "id": "_e9EY0Kg57Lq",
        "outputId": "f4ae9844-3079-4fa3-c1a9-9b7111756f3e"
      },
      "execution_count": null,
      "outputs": [
        {
          "output_type": "stream",
          "name": "stdout",
          "text": [
            "<class 'float'>\n"
          ]
        }
      ]
    },
    {
      "cell_type": "code",
      "source": [
        "x=\"Antony\""
      ],
      "metadata": {
        "id": "gKTXWmjj6ETP"
      },
      "execution_count": null,
      "outputs": []
    },
    {
      "cell_type": "code",
      "source": [
        "Y=\"N J\""
      ],
      "metadata": {
        "id": "nE3-bGA26YFb"
      },
      "execution_count": null,
      "outputs": []
    },
    {
      "cell_type": "code",
      "source": [
        "print(x+\" \"+Y)"
      ],
      "metadata": {
        "colab": {
          "base_uri": "https://localhost:8080/"
        },
        "id": "J0Sq3Zga6jDA",
        "outputId": "82416fc9-b725-4ef8-d5a4-fc7e0427130f"
      },
      "execution_count": null,
      "outputs": [
        {
          "output_type": "stream",
          "name": "stdout",
          "text": [
            "Antony N J\n"
          ]
        }
      ]
    },
    {
      "cell_type": "code",
      "source": [
        "A=\"India\"\n",
        "B=\"is\"\n",
        "C=\"my\"\n",
        "D=\"country\""
      ],
      "metadata": {
        "id": "pxcihRds7DlT"
      },
      "execution_count": null,
      "outputs": []
    },
    {
      "cell_type": "code",
      "source": [
        "print(A+\" \"+B+\" \"+C+\" \"+D)"
      ],
      "metadata": {
        "colab": {
          "base_uri": "https://localhost:8080/"
        },
        "id": "OHa3d51X8Ir4",
        "outputId": "fd9e394e-a882-4bce-f5df-d0dfcae36dc4"
      },
      "execution_count": null,
      "outputs": [
        {
          "output_type": "stream",
          "name": "stdout",
          "text": [
            "India is my country\n"
          ]
        }
      ]
    },
    {
      "cell_type": "code",
      "source": [
        "X=\"10\"\n",
        "Y=\"20\""
      ],
      "metadata": {
        "id": "g-GlBs_W8hL8"
      },
      "execution_count": null,
      "outputs": []
    },
    {
      "cell_type": "code",
      "source": [
        "print (type(X))"
      ],
      "metadata": {
        "colab": {
          "base_uri": "https://localhost:8080/"
        },
        "id": "Bz-Nw37q8w-7",
        "outputId": "f6efdc0c-8749-421a-e61e-b6c9aef93fa5"
      },
      "execution_count": null,
      "outputs": [
        {
          "output_type": "stream",
          "name": "stdout",
          "text": [
            "<class 'str'>\n"
          ]
        }
      ]
    },
    {
      "cell_type": "code",
      "source": [
        "print (type(x))"
      ],
      "metadata": {
        "colab": {
          "base_uri": "https://localhost:8080/"
        },
        "id": "z4Z0hZjMCUDm",
        "outputId": "46ad39ce-a7e2-44d6-9bc3-cc555844b8a1"
      },
      "execution_count": null,
      "outputs": [
        {
          "output_type": "stream",
          "name": "stdout",
          "text": [
            "<class 'str'>\n"
          ]
        }
      ]
    },
    {
      "cell_type": "code",
      "source": [
        "x=input ()"
      ],
      "metadata": {
        "colab": {
          "base_uri": "https://localhost:8080/"
        },
        "id": "QANN8xNpCdOx",
        "outputId": "ec495c2a-b986-4a85-ec89-690d64218698"
      },
      "execution_count": null,
      "outputs": [
        {
          "name": "stdout",
          "output_type": "stream",
          "text": [
            "Anj \n"
          ]
        }
      ]
    },
    {
      "cell_type": "code",
      "source": [
        "print (type(x))"
      ],
      "metadata": {
        "colab": {
          "base_uri": "https://localhost:8080/"
        },
        "id": "lVWpGMs4CopD",
        "outputId": "e5599281-d47e-4311-9445-ceb9fb66df75"
      },
      "execution_count": null,
      "outputs": [
        {
          "output_type": "stream",
          "name": "stdout",
          "text": [
            "<class 'str'>\n"
          ]
        }
      ]
    },
    {
      "cell_type": "code",
      "source": [
        "x=int(input (\"Enter a number\"))"
      ],
      "metadata": {
        "colab": {
          "base_uri": "https://localhost:8080/"
        },
        "id": "pBXst2MsDmjX",
        "outputId": "450982e5-5078-4ef0-d33e-4d4720bccffa"
      },
      "execution_count": null,
      "outputs": [
        {
          "name": "stdout",
          "output_type": "stream",
          "text": [
            "Enter a number50\n"
          ]
        }
      ]
    },
    {
      "cell_type": "code",
      "source": [
        "print (type(x))"
      ],
      "metadata": {
        "colab": {
          "base_uri": "https://localhost:8080/"
        },
        "id": "jxpLRtypD5ka",
        "outputId": "7aa38e14-bde6-4c7d-c6e2-fcd910d00ffb"
      },
      "execution_count": null,
      "outputs": [
        {
          "output_type": "stream",
          "name": "stdout",
          "text": [
            "<class 'int'>\n"
          ]
        }
      ]
    },
    {
      "cell_type": "code",
      "source": [
        "x=int(input (\"Enter a mark\"))\n",
        "if x >50 :\n",
        "    print(\"pass\")"
      ],
      "metadata": {
        "colab": {
          "base_uri": "https://localhost:8080/"
        },
        "id": "XO1ivtcjNqzz",
        "outputId": "5154a94d-2811-4964-bd12-64074670c7e9"
      },
      "execution_count": null,
      "outputs": [
        {
          "output_type": "stream",
          "name": "stdout",
          "text": [
            "Enter a mark65\n",
            "pass\n"
          ]
        }
      ]
    },
    {
      "cell_type": "code",
      "source": [
        "x=int(input (\"Enter a mark\"))\n",
        "if x <50 :\n",
        "    print(\"fail\")"
      ],
      "metadata": {
        "colab": {
          "base_uri": "https://localhost:8080/"
        },
        "id": "m9YxkaBdOsH9",
        "outputId": "ce0e3ed2-aa1e-45f5-ab2e-ce3a99b4d13f"
      },
      "execution_count": null,
      "outputs": [
        {
          "output_type": "stream",
          "name": "stdout",
          "text": [
            "Enter a mark46\n",
            "fail\n"
          ]
        }
      ]
    },
    {
      "cell_type": "code",
      "source": [
        "x=int(input (\"Enter a mark\"))\n",
        "if x <50 : \n",
        "    print(\"fail\")\n",
        "if x >50 :\n",
        "    print(\"pass\")"
      ],
      "metadata": {
        "colab": {
          "base_uri": "https://localhost:8080/"
        },
        "id": "E97pl9VCPXby",
        "outputId": "046f9255-929d-4a05-f13e-b65e6464fff9"
      },
      "execution_count": null,
      "outputs": [
        {
          "output_type": "stream",
          "name": "stdout",
          "text": [
            "Enter a mark55\n",
            "pass\n"
          ]
        }
      ]
    },
    {
      "cell_type": "code",
      "source": [
        "x=int(input (\"Enter a salary\"))\n",
        "if x <250000 :\n",
        "    print (\"not taxable\")\n",
        "if x >250000 :\n",
        "    print (\"taxable\")"
      ],
      "metadata": {
        "colab": {
          "base_uri": "https://localhost:8080/"
        },
        "id": "HAwiHYRVQEIY",
        "outputId": "3227d0de-8a39-4340-9563-ca690cb802cf"
      },
      "execution_count": null,
      "outputs": [
        {
          "output_type": "stream",
          "name": "stdout",
          "text": [
            "Enter a salary256645\n",
            "taxable\n"
          ]
        }
      ]
    },
    {
      "cell_type": "code",
      "source": [
        "x=int(input (\"Enter a salary\"))\n",
        "if x <250000 :\n",
        "    print (\"not taxable\")\n",
        "if x >250000 :\n",
        "    print (\"taxable\")"
      ],
      "metadata": {
        "colab": {
          "base_uri": "https://localhost:8080/"
        },
        "id": "Qm-jdaMoRVhO",
        "outputId": "9f6a1154-862f-4af3-ccdd-d0e8dbf674fd"
      },
      "execution_count": null,
      "outputs": [
        {
          "output_type": "stream",
          "name": "stdout",
          "text": [
            "Enter a salary120000\n",
            "not taxable\n"
          ]
        }
      ]
    },
    {
      "cell_type": "code",
      "source": [
        "x=int(input (\"enter your amount \"))\n",
        "if x>250000:\n",
        "   print((x-250000)*10/100)\n",
        "   print(\"you are taxable\")\n",
        "if x<250000:\n",
        "   Print ((x-250000)*10/100)\n",
        "   Print(\"you are not taxable\")"
      ],
      "metadata": {
        "id": "ul1bPb9_Re-a",
        "colab": {
          "base_uri": "https://localhost:8080/"
        },
        "outputId": "bf4bab45-ea5e-4c8d-d3fd-837999adde29"
      },
      "execution_count": null,
      "outputs": [
        {
          "output_type": "stream",
          "name": "stdout",
          "text": [
            "enter your amount 300000\n",
            "5000.0\n",
            "you are taxable\n"
          ]
        }
      ]
    },
    {
      "cell_type": "code",
      "source": [
        "x=int(input (\"enter your amount \"))\n",
        "if x>400000:\n",
        "   print((x-400000)*10/100)\n",
        "   print(\"you are taxable\")\n",
        "if x<4000000:\n",
        "   Print ((x-4000000)*10/100)\n",
        "   Print(\"you are not taxable\")"
      ],
      "metadata": {
        "colab": {
          "base_uri": "https://localhost:8080/",
          "height": 426
        },
        "id": "bzqUYYvPGZ5O",
        "outputId": "09f99eb3-b3bd-408e-cd5d-cc01fa9ca423"
      },
      "execution_count": null,
      "outputs": [
        {
          "output_type": "stream",
          "name": "stdout",
          "text": [
            "enter your amount 600000\n",
            "20000.0\n",
            "you are taxable\n"
          ]
        },
        {
          "output_type": "error",
          "ename": "NameError",
          "evalue": "ignored",
          "traceback": [
            "\u001b[0;31m---------------------------------------------------------------------------\u001b[0m",
            "\u001b[0;31mNameError\u001b[0m                                 Traceback (most recent call last)",
            "\u001b[0;32m<ipython-input-12-c0a5e30106cd>\u001b[0m in \u001b[0;36m<module>\u001b[0;34m\u001b[0m\n\u001b[1;32m      4\u001b[0m    \u001b[0mprint\u001b[0m\u001b[0;34m(\u001b[0m\u001b[0;34m\"you are taxable\"\u001b[0m\u001b[0;34m)\u001b[0m\u001b[0;34m\u001b[0m\u001b[0;34m\u001b[0m\u001b[0m\n\u001b[1;32m      5\u001b[0m \u001b[0;32mif\u001b[0m \u001b[0mx\u001b[0m\u001b[0;34m<\u001b[0m\u001b[0;36m4000000\u001b[0m\u001b[0;34m:\u001b[0m\u001b[0;34m\u001b[0m\u001b[0;34m\u001b[0m\u001b[0m\n\u001b[0;32m----> 6\u001b[0;31m    \u001b[0mPrint\u001b[0m \u001b[0;34m(\u001b[0m\u001b[0;34m(\u001b[0m\u001b[0mx\u001b[0m\u001b[0;34m-\u001b[0m\u001b[0;36m4000000\u001b[0m\u001b[0;34m)\u001b[0m\u001b[0;34m*\u001b[0m\u001b[0;36m10\u001b[0m\u001b[0;34m/\u001b[0m\u001b[0;36m100\u001b[0m\u001b[0;34m)\u001b[0m\u001b[0;34m\u001b[0m\u001b[0;34m\u001b[0m\u001b[0m\n\u001b[0m\u001b[1;32m      7\u001b[0m    \u001b[0mPrint\u001b[0m\u001b[0;34m(\u001b[0m\u001b[0;34m\"you are not taxable\"\u001b[0m\u001b[0;34m)\u001b[0m\u001b[0;34m\u001b[0m\u001b[0;34m\u001b[0m\u001b[0m\n",
            "\u001b[0;31mNameError\u001b[0m: name 'Print' is not defined"
          ]
        }
      ]
    },
    {
      "cell_type": "code",
      "source": [
        "x =int(input(\"enter return\"))\n",
        "if x>250000 and x<500000:\n",
        "    print((x-50000)*10/100)\n",
        "    print (\"taxable\")\n",
        "if x<250000:\n",
        "    print((x-250000)*10/100)\n",
        "    print (\"non taxable\")\n",
        "if x>500000:\n",
        "    print((500000-250000)*10/100+(x-500000)*20/100)\n",
        "print (\"taxable \")"
      ],
      "metadata": {
        "colab": {
          "base_uri": "https://localhost:8080/"
        },
        "id": "yaVOT3bvPh_C",
        "outputId": "6701fe92-9cfb-4b2f-8fbc-8090d5f79d24"
      },
      "execution_count": null,
      "outputs": [
        {
          "output_type": "stream",
          "name": "stdout",
          "text": [
            "enter return800000\n",
            "85000.0\n",
            "taxable \n"
          ]
        }
      ]
    }
  ]
}